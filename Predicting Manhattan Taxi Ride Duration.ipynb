{
 "cells": [
  {
   "cell_type": "markdown",
   "metadata": {},
   "source": [
    "## Linear Regression to Predict Taxi Ride Duration\n",
    "\n",
    "In this project, we get data from January 2016 NYC yellow taxi rides and use a regression model to predict the duration of those taxi rides. We use the data from the NYC Taxi and Limosine Commission, found at this link: https://www1.nyc.gov/site/tlc/about/tlc-trip-record-data.page\n",
    "\n",
    "The specific data we sample from is found at this link: https://s3.amazonaws.com/nyc-tlc/trip+data/yellow_tripdata_2016-01.csv. The file 'taxi.db' is a SQLite table (relation) containing 9 columns (attributes) and 100,000 rows (datapoints), a random sample from the csv above. Specifically, the columns of the taxi table are the following:\n",
    "\n",
    "- `pickup_datetime`: date and time when the meter was engaged\n",
    "- `dropoff_datetime`: date and time when the meter was disengaged\n",
    "- `passengers`: number of passengers in the vehicle (driver-entered value)\n",
    "- `pickup_lon`: longitude where the meter was engaged\n",
    "- `pickup_lat`: latitude where the meter was engaged\n",
    "- `dropoff_lon`: longitude where the meter was disengaged\n",
    "- `dropoff_lat`: latitude where the meter was disengaged\n",
    "- `distance`: elapsed trip distance in miles reported by the taximeter\n",
    "- `duration`: duration of the trip in seconds"
   ]
  },
  {
   "cell_type": "code",
   "execution_count": 2,
   "metadata": {},
   "outputs": [],
   "source": [
    "import numpy as np\n",
    "import pandas as pd\n",
    "import matplotlib.pyplot as plt\n",
    "import seaborn as sns\n",
    "\n",
    "import requests\n",
    "import sqlite3"
   ]
  },
  {
   "cell_type": "code",
   "execution_count": 3,
   "metadata": {},
   "outputs": [],
   "source": [
    "conn = sqlite3.connect('taxi.db')"
   ]
  },
  {
   "cell_type": "code",
   "execution_count": 4,
   "metadata": {},
   "outputs": [
    {
     "data": {
      "text/html": [
       "<div>\n",
       "<style scoped>\n",
       "    .dataframe tbody tr th:only-of-type {\n",
       "        vertical-align: middle;\n",
       "    }\n",
       "\n",
       "    .dataframe tbody tr th {\n",
       "        vertical-align: top;\n",
       "    }\n",
       "\n",
       "    .dataframe thead th {\n",
       "        text-align: right;\n",
       "    }\n",
       "</style>\n",
       "<table border=\"1\" class=\"dataframe\">\n",
       "  <thead>\n",
       "    <tr style=\"text-align: right;\">\n",
       "      <th></th>\n",
       "      <th>pickup_datetime</th>\n",
       "      <th>dropoff_datetime</th>\n",
       "      <th>pickup_lon</th>\n",
       "      <th>pickup_lat</th>\n",
       "      <th>dropoff_lon</th>\n",
       "      <th>dropoff_lat</th>\n",
       "      <th>passengers</th>\n",
       "      <th>distance</th>\n",
       "      <th>duration</th>\n",
       "    </tr>\n",
       "  </thead>\n",
       "  <tbody>\n",
       "    <tr>\n",
       "      <th>0</th>\n",
       "      <td>2016-01-30 22:47:32</td>\n",
       "      <td>2016-01-30 23:03:53</td>\n",
       "      <td>-73.988251</td>\n",
       "      <td>40.743542</td>\n",
       "      <td>-74.015251</td>\n",
       "      <td>40.709808</td>\n",
       "      <td>1</td>\n",
       "      <td>3.99</td>\n",
       "      <td>981</td>\n",
       "    </tr>\n",
       "    <tr>\n",
       "      <th>1</th>\n",
       "      <td>2016-01-04 04:30:48</td>\n",
       "      <td>2016-01-04 04:36:08</td>\n",
       "      <td>-73.995888</td>\n",
       "      <td>40.760010</td>\n",
       "      <td>-73.975388</td>\n",
       "      <td>40.782200</td>\n",
       "      <td>1</td>\n",
       "      <td>2.03</td>\n",
       "      <td>320</td>\n",
       "    </tr>\n",
       "    <tr>\n",
       "      <th>2</th>\n",
       "      <td>2016-01-07 21:52:24</td>\n",
       "      <td>2016-01-07 21:57:23</td>\n",
       "      <td>-73.990440</td>\n",
       "      <td>40.730469</td>\n",
       "      <td>-73.985542</td>\n",
       "      <td>40.738510</td>\n",
       "      <td>1</td>\n",
       "      <td>0.70</td>\n",
       "      <td>299</td>\n",
       "    </tr>\n",
       "    <tr>\n",
       "      <th>3</th>\n",
       "      <td>2016-01-01 04:13:41</td>\n",
       "      <td>2016-01-01 04:19:24</td>\n",
       "      <td>-73.944725</td>\n",
       "      <td>40.714539</td>\n",
       "      <td>-73.955421</td>\n",
       "      <td>40.719173</td>\n",
       "      <td>1</td>\n",
       "      <td>0.80</td>\n",
       "      <td>343</td>\n",
       "    </tr>\n",
       "    <tr>\n",
       "      <th>4</th>\n",
       "      <td>2016-01-08 18:46:10</td>\n",
       "      <td>2016-01-08 18:54:00</td>\n",
       "      <td>-74.004494</td>\n",
       "      <td>40.706989</td>\n",
       "      <td>-74.010155</td>\n",
       "      <td>40.716751</td>\n",
       "      <td>5</td>\n",
       "      <td>0.97</td>\n",
       "      <td>470</td>\n",
       "    </tr>\n",
       "    <tr>\n",
       "      <th>5</th>\n",
       "      <td>2016-01-02 12:39:57</td>\n",
       "      <td>2016-01-02 12:53:29</td>\n",
       "      <td>-73.958214</td>\n",
       "      <td>40.760525</td>\n",
       "      <td>-73.983360</td>\n",
       "      <td>40.760406</td>\n",
       "      <td>1</td>\n",
       "      <td>1.70</td>\n",
       "      <td>812</td>\n",
       "    </tr>\n",
       "    <tr>\n",
       "      <th>6</th>\n",
       "      <td>2016-01-28 15:39:31</td>\n",
       "      <td>2016-01-29 15:33:00</td>\n",
       "      <td>-73.964432</td>\n",
       "      <td>40.770443</td>\n",
       "      <td>-73.961655</td>\n",
       "      <td>40.774113</td>\n",
       "      <td>1</td>\n",
       "      <td>0.29</td>\n",
       "      <td>86009</td>\n",
       "    </tr>\n",
       "    <tr>\n",
       "      <th>7</th>\n",
       "      <td>2016-01-04 17:03:28</td>\n",
       "      <td>2016-01-04 17:32:04</td>\n",
       "      <td>-73.971367</td>\n",
       "      <td>40.797852</td>\n",
       "      <td>-73.922813</td>\n",
       "      <td>40.746685</td>\n",
       "      <td>2</td>\n",
       "      <td>6.30</td>\n",
       "      <td>1716</td>\n",
       "    </tr>\n",
       "    <tr>\n",
       "      <th>8</th>\n",
       "      <td>2016-01-17 19:21:16</td>\n",
       "      <td>2016-01-17 19:28:24</td>\n",
       "      <td>-73.978401</td>\n",
       "      <td>40.764992</td>\n",
       "      <td>-73.981018</td>\n",
       "      <td>40.762100</td>\n",
       "      <td>1</td>\n",
       "      <td>0.95</td>\n",
       "      <td>428</td>\n",
       "    </tr>\n",
       "    <tr>\n",
       "      <th>9</th>\n",
       "      <td>2016-01-14 17:54:32</td>\n",
       "      <td>2016-01-14 18:31:14</td>\n",
       "      <td>-73.976173</td>\n",
       "      <td>40.744934</td>\n",
       "      <td>-73.985298</td>\n",
       "      <td>40.714516</td>\n",
       "      <td>1</td>\n",
       "      <td>4.34</td>\n",
       "      <td>2202</td>\n",
       "    </tr>\n",
       "  </tbody>\n",
       "</table>\n",
       "</div>"
      ],
      "text/plain": [
       "       pickup_datetime     dropoff_datetime  pickup_lon  pickup_lat  \\\n",
       "0  2016-01-30 22:47:32  2016-01-30 23:03:53  -73.988251   40.743542   \n",
       "1  2016-01-04 04:30:48  2016-01-04 04:36:08  -73.995888   40.760010   \n",
       "2  2016-01-07 21:52:24  2016-01-07 21:57:23  -73.990440   40.730469   \n",
       "3  2016-01-01 04:13:41  2016-01-01 04:19:24  -73.944725   40.714539   \n",
       "4  2016-01-08 18:46:10  2016-01-08 18:54:00  -74.004494   40.706989   \n",
       "5  2016-01-02 12:39:57  2016-01-02 12:53:29  -73.958214   40.760525   \n",
       "6  2016-01-28 15:39:31  2016-01-29 15:33:00  -73.964432   40.770443   \n",
       "7  2016-01-04 17:03:28  2016-01-04 17:32:04  -73.971367   40.797852   \n",
       "8  2016-01-17 19:21:16  2016-01-17 19:28:24  -73.978401   40.764992   \n",
       "9  2016-01-14 17:54:32  2016-01-14 18:31:14  -73.976173   40.744934   \n",
       "\n",
       "   dropoff_lon  dropoff_lat  passengers  distance  duration  \n",
       "0   -74.015251    40.709808           1      3.99       981  \n",
       "1   -73.975388    40.782200           1      2.03       320  \n",
       "2   -73.985542    40.738510           1      0.70       299  \n",
       "3   -73.955421    40.719173           1      0.80       343  \n",
       "4   -74.010155    40.716751           5      0.97       470  \n",
       "5   -73.983360    40.760406           1      1.70       812  \n",
       "6   -73.961655    40.774113           1      0.29     86009  \n",
       "7   -73.922813    40.746685           2      6.30      1716  \n",
       "8   -73.981018    40.762100           1      0.95       428  \n",
       "9   -73.985298    40.714516           1      4.34      2202  "
      ]
     },
     "execution_count": 4,
     "metadata": {},
     "output_type": "execute_result"
    }
   ],
   "source": [
    "query = 'SELECT * FROM taxi'\n",
    "taxi = pd.read_sql(query, conn)\n",
    "taxi.head(10)"
   ]
  },
  {
   "cell_type": "markdown",
   "metadata": {},
   "source": [
    "Since we are given dropoff and pickup coordinates, let's visualize the taxi rides geographically. The function `pickup_scatter` will make a scatterplot the taxi pickup longitudes ($x$-axis) and latitudes ($y$-axis)."
   ]
  },
  {
   "cell_type": "code",
   "execution_count": 8,
   "metadata": {},
   "outputs": [
    {
     "data": {
      "image/png": "[encoded data removed]",
      "text/plain": [
       "<matplotlib.figure.Figure at 0x1e3e4310da0>"
      ]
     },
     "metadata": {
      "needs_background": "light"
     },
     "output_type": "display_data"
    }
   ],
   "source": [
    "def pickup_scatter(t):\n",
    "    plt.scatter(t['pickup_lon'], t['pickup_lat'], s=2, alpha=0.2)\n",
    "    plt.xlabel('Longitude')\n",
    "    plt.ylabel('Latitude')\n",
    "    plt.title('Pickup locations')\n",
    "    \n",
    "plt.figure(figsize=(6,6))\n",
    "pickup_scatter(taxi)"
   ]
  },
  {
   "cell_type": "markdown",
   "metadata": {},
   "source": [
    "As we can see above, there seems to be an outlier at the origin that doesn't seem right for our purposes of dealing with Manhattan taxi rides. Let's select only those taxi rides that are located within the boundaries of New York City. "
   ]
  },
  {
   "cell_type": "code",
   "execution_count": 10,
   "metadata": {},
   "outputs": [
    {
     "data": {
      "image/png": "[encoded data removed]",
      "text/plain": [
       "<matplotlib.figure.Figure at 0x1e3e3f28710>"
      ]
     },
     "metadata": {
      "needs_background": "light"
     },
     "output_type": "display_data"
    }
   ],
   "source": [
    "query = 'SELECT * FROM taxi WHERE (NOT pickup_lon = 0) AND (NOT pickup_lat = 0)'\n",
    "taxi = pd.read_sql(query, conn)\n",
    "plt.figure(figsize=(6,6))\n",
    "pickup_scatter(taxi)"
   ]
  },
  {
   "cell_type": "code",
   "execution_count": null,
   "metadata": {},
   "outputs": [],
   "source": []
  }
 ],
 "metadata": {
  "kernelspec": {
   "display_name": "Python 3",
   "language": "python",
   "name": "python3"
  },
  "language_info": {
   "codemirror_mode": {
    "name": "ipython",
    "version": 3
   },
   "file_extension": ".py",
   "mimetype": "text/x-python",
   "name": "python",
   "nbconvert_exporter": "python",
   "pygments_lexer": "ipython3",
   "version": "3.6.4"
  }
 },
 "nbformat": 4,
 "nbformat_minor": 2
}
