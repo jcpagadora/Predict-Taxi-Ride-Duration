{
 "cells": [
  {
   "cell_type": "markdown",
   "metadata": {},
   "source": [
    "## Predicting Taxi Ride Duration\n",
    "\n",
    "In this project, we get data from January 2016 NYC yellow taxi rides and use a regression model to predict the duration of those taxi rides. We use the data from the NYC Taxi and Limosine Commission, found at this link: https://www1.nyc.gov/site/tlc/about/tlc-trip-record-data.page\n",
    "\n",
    "The specific data we sample from is found at this link: https://s3.amazonaws.com/nyc-tlc/trip+data/yellow_tripdata_2016-01.csv. The file 'taxi.db' is a SQLite table (relation) containing 9 columns (attributes) and 100,000 rows (datapoints), a random sample from the csv above. Specifically, the columns of the taxi table are the following:\n",
    "\n",
    "- `pickup_datetime`: date and time when the meter was engaged\n",
    "- `dropoff_datetime`: date and time when the meter was disengaged\n",
    "- `passengers`: number of passengers in the vehicle (driver-entered value)\n",
    "- `pickup_lon`: longitude where the meter was engaged\n",
    "- `pickup_lat`: latitude where the meter was engaged\n",
    "- `dropoff_lon`: longitude where the meter was disengaged\n",
    "- `dropoff_lat`: latitude where the meter was disengaged\n",
    "- `distance`: elapsed trip distance in miles reported by the taximeter\n",
    "- `duration`: duration of the trip in seconds"
   ]
  },
  {
   "cell_type": "code",
   "execution_count": 7,
   "metadata": {},
   "outputs": [],
   "source": [
    "import numpy as np\n",
    "import pandas as pd\n",
    "import matplotlib.pyplot as plt\n",
    "import seaborn as sns\n",
    "\n",
    "import sqlite3"
   ]
  },
  {
   "cell_type": "code",
   "execution_count": 8,
   "metadata": {},
   "outputs": [],
   "source": [
    "conn = sqlite3.connect('taxi.db')"
   ]
  },
  {
   "cell_type": "code",
   "execution_count": 9,
   "metadata": {},
   "outputs": [
    {
     "data": {
      "text/html": [
       "<div>\n",
       "<style scoped>\n",
       "    .dataframe tbody tr th:only-of-type {\n",
       "        vertical-align: middle;\n",
       "    }\n",
       "\n",
       "    .dataframe tbody tr th {\n",
       "        vertical-align: top;\n",
       "    }\n",
       "\n",
       "    .dataframe thead th {\n",
       "        text-align: right;\n",
       "    }\n",
       "</style>\n",
       "<table border=\"1\" class=\"dataframe\">\n",
       "  <thead>\n",
       "    <tr style=\"text-align: right;\">\n",
       "      <th></th>\n",
       "      <th>pickup_datetime</th>\n",
       "      <th>dropoff_datetime</th>\n",
       "      <th>pickup_lon</th>\n",
       "      <th>pickup_lat</th>\n",
       "      <th>dropoff_lon</th>\n",
       "      <th>dropoff_lat</th>\n",
       "      <th>passengers</th>\n",
       "      <th>distance</th>\n",
       "      <th>duration</th>\n",
       "    </tr>\n",
       "  </thead>\n",
       "  <tbody>\n",
       "    <tr>\n",
       "      <td>0</td>\n",
       "      <td>2016-01-30 22:47:32</td>\n",
       "      <td>2016-01-30 23:03:53</td>\n",
       "      <td>-73.988251</td>\n",
       "      <td>40.743542</td>\n",
       "      <td>-74.015251</td>\n",
       "      <td>40.709808</td>\n",
       "      <td>1</td>\n",
       "      <td>3.99</td>\n",
       "      <td>981</td>\n",
       "    </tr>\n",
       "    <tr>\n",
       "      <td>1</td>\n",
       "      <td>2016-01-04 04:30:48</td>\n",
       "      <td>2016-01-04 04:36:08</td>\n",
       "      <td>-73.995888</td>\n",
       "      <td>40.760010</td>\n",
       "      <td>-73.975388</td>\n",
       "      <td>40.782200</td>\n",
       "      <td>1</td>\n",
       "      <td>2.03</td>\n",
       "      <td>320</td>\n",
       "    </tr>\n",
       "    <tr>\n",
       "      <td>2</td>\n",
       "      <td>2016-01-07 21:52:24</td>\n",
       "      <td>2016-01-07 21:57:23</td>\n",
       "      <td>-73.990440</td>\n",
       "      <td>40.730469</td>\n",
       "      <td>-73.985542</td>\n",
       "      <td>40.738510</td>\n",
       "      <td>1</td>\n",
       "      <td>0.70</td>\n",
       "      <td>299</td>\n",
       "    </tr>\n",
       "    <tr>\n",
       "      <td>3</td>\n",
       "      <td>2016-01-01 04:13:41</td>\n",
       "      <td>2016-01-01 04:19:24</td>\n",
       "      <td>-73.944725</td>\n",
       "      <td>40.714539</td>\n",
       "      <td>-73.955421</td>\n",
       "      <td>40.719173</td>\n",
       "      <td>1</td>\n",
       "      <td>0.80</td>\n",
       "      <td>343</td>\n",
       "    </tr>\n",
       "    <tr>\n",
       "      <td>4</td>\n",
       "      <td>2016-01-08 18:46:10</td>\n",
       "      <td>2016-01-08 18:54:00</td>\n",
       "      <td>-74.004494</td>\n",
       "      <td>40.706989</td>\n",
       "      <td>-74.010155</td>\n",
       "      <td>40.716751</td>\n",
       "      <td>5</td>\n",
       "      <td>0.97</td>\n",
       "      <td>470</td>\n",
       "    </tr>\n",
       "    <tr>\n",
       "      <td>5</td>\n",
       "      <td>2016-01-02 12:39:57</td>\n",
       "      <td>2016-01-02 12:53:29</td>\n",
       "      <td>-73.958214</td>\n",
       "      <td>40.760525</td>\n",
       "      <td>-73.983360</td>\n",
       "      <td>40.760406</td>\n",
       "      <td>1</td>\n",
       "      <td>1.70</td>\n",
       "      <td>812</td>\n",
       "    </tr>\n",
       "    <tr>\n",
       "      <td>6</td>\n",
       "      <td>2016-01-28 15:39:31</td>\n",
       "      <td>2016-01-29 15:33:00</td>\n",
       "      <td>-73.964432</td>\n",
       "      <td>40.770443</td>\n",
       "      <td>-73.961655</td>\n",
       "      <td>40.774113</td>\n",
       "      <td>1</td>\n",
       "      <td>0.29</td>\n",
       "      <td>86009</td>\n",
       "    </tr>\n",
       "    <tr>\n",
       "      <td>7</td>\n",
       "      <td>2016-01-04 17:03:28</td>\n",
       "      <td>2016-01-04 17:32:04</td>\n",
       "      <td>-73.971367</td>\n",
       "      <td>40.797852</td>\n",
       "      <td>-73.922813</td>\n",
       "      <td>40.746685</td>\n",
       "      <td>2</td>\n",
       "      <td>6.30</td>\n",
       "      <td>1716</td>\n",
       "    </tr>\n",
       "    <tr>\n",
       "      <td>8</td>\n",
       "      <td>2016-01-17 19:21:16</td>\n",
       "      <td>2016-01-17 19:28:24</td>\n",
       "      <td>-73.978401</td>\n",
       "      <td>40.764992</td>\n",
       "      <td>-73.981018</td>\n",
       "      <td>40.762100</td>\n",
       "      <td>1</td>\n",
       "      <td>0.95</td>\n",
       "      <td>428</td>\n",
       "    </tr>\n",
       "    <tr>\n",
       "      <td>9</td>\n",
       "      <td>2016-01-14 17:54:32</td>\n",
       "      <td>2016-01-14 18:31:14</td>\n",
       "      <td>-73.976173</td>\n",
       "      <td>40.744934</td>\n",
       "      <td>-73.985298</td>\n",
       "      <td>40.714516</td>\n",
       "      <td>1</td>\n",
       "      <td>4.34</td>\n",
       "      <td>2202</td>\n",
       "    </tr>\n",
       "  </tbody>\n",
       "</table>\n",
       "</div>"
      ],
      "text/plain": [
       "       pickup_datetime     dropoff_datetime  pickup_lon  pickup_lat  \\\n",
       "0  2016-01-30 22:47:32  2016-01-30 23:03:53  -73.988251   40.743542   \n",
       "1  2016-01-04 04:30:48  2016-01-04 04:36:08  -73.995888   40.760010   \n",
       "2  2016-01-07 21:52:24  2016-01-07 21:57:23  -73.990440   40.730469   \n",
       "3  2016-01-01 04:13:41  2016-01-01 04:19:24  -73.944725   40.714539   \n",
       "4  2016-01-08 18:46:10  2016-01-08 18:54:00  -74.004494   40.706989   \n",
       "5  2016-01-02 12:39:57  2016-01-02 12:53:29  -73.958214   40.760525   \n",
       "6  2016-01-28 15:39:31  2016-01-29 15:33:00  -73.964432   40.770443   \n",
       "7  2016-01-04 17:03:28  2016-01-04 17:32:04  -73.971367   40.797852   \n",
       "8  2016-01-17 19:21:16  2016-01-17 19:28:24  -73.978401   40.764992   \n",
       "9  2016-01-14 17:54:32  2016-01-14 18:31:14  -73.976173   40.744934   \n",
       "\n",
       "   dropoff_lon  dropoff_lat  passengers  distance  duration  \n",
       "0   -74.015251    40.709808           1      3.99       981  \n",
       "1   -73.975388    40.782200           1      2.03       320  \n",
       "2   -73.985542    40.738510           1      0.70       299  \n",
       "3   -73.955421    40.719173           1      0.80       343  \n",
       "4   -74.010155    40.716751           5      0.97       470  \n",
       "5   -73.983360    40.760406           1      1.70       812  \n",
       "6   -73.961655    40.774113           1      0.29     86009  \n",
       "7   -73.922813    40.746685           2      6.30      1716  \n",
       "8   -73.981018    40.762100           1      0.95       428  \n",
       "9   -73.985298    40.714516           1      4.34      2202  "
      ]
     },
     "execution_count": 9,
     "metadata": {},
     "output_type": "execute_result"
    }
   ],
   "source": [
    "query = 'SELECT * FROM taxi'\n",
    "taxi = pd.read_sql(query, conn)\n",
    "taxi.head(10)"
   ]
  },
  {
   "cell_type": "markdown",
   "metadata": {},
   "source": [
    "Since we are given dropoff and pickup coordinates, let's visualize the taxi rides geographically. The function `pickup_scatter` will make a scatterplot the taxi pickup longitudes ($x$-axis) and latitudes ($y$-axis)."
   ]
  },
  {
   "cell_type": "code",
   "execution_count": 10,
   "metadata": {},
   "outputs": [
    {
     "data": {
      "image/png": "[encoded data removed]",
      "text/plain": [
       "<Figure size 432x432 with 1 Axes>"
      ]
     },
     "metadata": {
      "needs_background": "light"
     },
     "output_type": "display_data"
    }
   ],
   "source": [
    "def pickup_scatter(t):\n",
    "    plt.scatter(t['pickup_lon'], t['pickup_lat'], s=2, alpha=0.2)\n",
    "    plt.xlabel('Longitude')\n",
    "    plt.ylabel('Latitude')\n",
    "    plt.title('Pickup locations')\n",
    "    \n",
    "plt.figure(figsize=(6,6))\n",
    "pickup_scatter(taxi)"
   ]
  },
  {
   "cell_type": "markdown",
   "metadata": {},
   "source": [
    "As we can see above, there seems to be an outlier at the origin that doesn't seem right for our purposes of dealing with Manhattan taxi rides. This leads to a bad, very zoomed-out plot of the pickup locations. Let's select only those taxi rides that are located within the boundaries of New York City, which are:\n",
    "\n",
    " - Longitude: [-74.03, -73.75]\n",
    " - Latitude: [40.6, 40.88]\n",
    " \n",
    "In particular, we select all taxi rides where both the pickup and dropoff locations are located within these boundaries."
   ]
  },
  {
   "cell_type": "code",
   "execution_count": 42,
   "metadata": {},
   "outputs": [
    {
     "data": {
      "text/plain": [
       "(97692, 9)"
      ]
     },
     "execution_count": 42,
     "metadata": {},
     "output_type": "execute_result"
    },
    {
     "data": {
      "image/png": "[encoded data removed]",
      "text/plain": [
       "<Figure size 576x576 with 1 Axes>"
      ]
     },
     "metadata": {
      "needs_background": "light"
     },
     "output_type": "display_data"
    }
   ],
   "source": [
    "lon_bounds = [-74.03, -73.75]\n",
    "lat_bounds = [40.6, 40.88]\n",
    "\n",
    "# Helper function that constructs the string used for the query in selecting datapoints\n",
    "# where the given field is within the given boundaries\n",
    "def cons_bound_str(field, bounds):\n",
    "    return field + \" >= \" + str(bounds[0]) + \" AND \" + field + \" <= \" + str(bounds[1])\n",
    "\n",
    "pickup_bound_lon = cons_bound_str(\"pickup_lon\", lon_bounds)\n",
    "pickup_bound_lat = cons_bound_str(\"pickup_lat\", lat_bounds)\n",
    "dropoff_bound_lon = cons_bound_str(\"dropoff_lon\", lon_bounds)\n",
    "dropoff_bound_lat = cons_bound_str(\"dropoff_lat\", lat_bounds)\n",
    "\n",
    "query = \"SELECT * FROM taxi WHERE \" + pickup_bound_lon + \" AND \" \\\n",
    "        + pickup_bound_lat + \" AND \" + dropoff_bound_lon + \" AND \" + dropoff_bound_lat\n",
    "\n",
    "taxi = pd.read_sql(query, conn)\n",
    "plt.figure(figsize=(8,8))\n",
    "pickup_scatter(taxi)\n",
    "taxi.shape"
   ]
  },
  {
   "cell_type": "markdown",
   "metadata": {},
   "source": [
    "We can already see an outline of the streets of Manhattan, along with other points outside the island. Indeed, comparing to a map of New York, we see that there are concentrations of pickups located at the two airports: LaGuardia and JFK. For our purposes, let's look only at taxi rides that start and end within Manhattan island. The csv-file `manhattan.csv` lists the vertices (as longitude, latitude pairs) of the polygon that approximates the boundaries of Manhattan island. We will put the resulting taxi rides into a new dataframe called `manhattan_taxi`."
   ]
  },
  {
   "cell_type": "code",
   "execution_count": 40,
   "metadata": {},
   "outputs": [
    {
     "data": {
      "text/html": [
       "<div>\n",
       "<style scoped>\n",
       "    .dataframe tbody tr th:only-of-type {\n",
       "        vertical-align: middle;\n",
       "    }\n",
       "\n",
       "    .dataframe tbody tr th {\n",
       "        vertical-align: top;\n",
       "    }\n",
       "\n",
       "    .dataframe thead th {\n",
       "        text-align: right;\n",
       "    }\n",
       "</style>\n",
       "<table border=\"1\" class=\"dataframe\">\n",
       "  <thead>\n",
       "    <tr style=\"text-align: right;\">\n",
       "      <th></th>\n",
       "      <th>pickup_datetime</th>\n",
       "      <th>dropoff_datetime</th>\n",
       "      <th>pickup_lon</th>\n",
       "      <th>pickup_lat</th>\n",
       "      <th>dropoff_lon</th>\n",
       "      <th>dropoff_lat</th>\n",
       "      <th>passengers</th>\n",
       "      <th>distance</th>\n",
       "      <th>duration</th>\n",
       "    </tr>\n",
       "  </thead>\n",
       "  <tbody>\n",
       "    <tr>\n",
       "      <td>0</td>\n",
       "      <td>2016-01-30 22:47:32</td>\n",
       "      <td>2016-01-30 23:03:53</td>\n",
       "      <td>-73.988251</td>\n",
       "      <td>40.743542</td>\n",
       "      <td>-74.015251</td>\n",
       "      <td>40.709808</td>\n",
       "      <td>1</td>\n",
       "      <td>3.99</td>\n",
       "      <td>981</td>\n",
       "    </tr>\n",
       "    <tr>\n",
       "      <td>1</td>\n",
       "      <td>2016-01-04 04:30:48</td>\n",
       "      <td>2016-01-04 04:36:08</td>\n",
       "      <td>-73.995888</td>\n",
       "      <td>40.760010</td>\n",
       "      <td>-73.975388</td>\n",
       "      <td>40.782200</td>\n",
       "      <td>1</td>\n",
       "      <td>2.03</td>\n",
       "      <td>320</td>\n",
       "    </tr>\n",
       "    <tr>\n",
       "      <td>2</td>\n",
       "      <td>2016-01-07 21:52:24</td>\n",
       "      <td>2016-01-07 21:57:23</td>\n",
       "      <td>-73.990440</td>\n",
       "      <td>40.730469</td>\n",
       "      <td>-73.985542</td>\n",
       "      <td>40.738510</td>\n",
       "      <td>1</td>\n",
       "      <td>0.70</td>\n",
       "      <td>299</td>\n",
       "    </tr>\n",
       "    <tr>\n",
       "      <td>4</td>\n",
       "      <td>2016-01-08 18:46:10</td>\n",
       "      <td>2016-01-08 18:54:00</td>\n",
       "      <td>-74.004494</td>\n",
       "      <td>40.706989</td>\n",
       "      <td>-74.010155</td>\n",
       "      <td>40.716751</td>\n",
       "      <td>5</td>\n",
       "      <td>0.97</td>\n",
       "      <td>470</td>\n",
       "    </tr>\n",
       "    <tr>\n",
       "      <td>5</td>\n",
       "      <td>2016-01-02 12:39:57</td>\n",
       "      <td>2016-01-02 12:53:29</td>\n",
       "      <td>-73.958214</td>\n",
       "      <td>40.760525</td>\n",
       "      <td>-73.983360</td>\n",
       "      <td>40.760406</td>\n",
       "      <td>1</td>\n",
       "      <td>1.70</td>\n",
       "      <td>812</td>\n",
       "    </tr>\n",
       "    <tr>\n",
       "      <td>6</td>\n",
       "      <td>2016-01-28 15:39:31</td>\n",
       "      <td>2016-01-29 15:33:00</td>\n",
       "      <td>-73.964432</td>\n",
       "      <td>40.770443</td>\n",
       "      <td>-73.961655</td>\n",
       "      <td>40.774113</td>\n",
       "      <td>1</td>\n",
       "      <td>0.29</td>\n",
       "      <td>86009</td>\n",
       "    </tr>\n",
       "    <tr>\n",
       "      <td>8</td>\n",
       "      <td>2016-01-17 19:21:16</td>\n",
       "      <td>2016-01-17 19:28:24</td>\n",
       "      <td>-73.978401</td>\n",
       "      <td>40.764992</td>\n",
       "      <td>-73.981018</td>\n",
       "      <td>40.762100</td>\n",
       "      <td>1</td>\n",
       "      <td>0.95</td>\n",
       "      <td>428</td>\n",
       "    </tr>\n",
       "    <tr>\n",
       "      <td>9</td>\n",
       "      <td>2016-01-14 17:54:32</td>\n",
       "      <td>2016-01-14 18:31:14</td>\n",
       "      <td>-73.976173</td>\n",
       "      <td>40.744934</td>\n",
       "      <td>-73.985298</td>\n",
       "      <td>40.714516</td>\n",
       "      <td>1</td>\n",
       "      <td>4.34</td>\n",
       "      <td>2202</td>\n",
       "    </tr>\n",
       "    <tr>\n",
       "      <td>10</td>\n",
       "      <td>2016-01-05 12:19:17</td>\n",
       "      <td>2016-01-05 12:30:54</td>\n",
       "      <td>-73.956406</td>\n",
       "      <td>40.768028</td>\n",
       "      <td>-73.978561</td>\n",
       "      <td>40.783222</td>\n",
       "      <td>3</td>\n",
       "      <td>2.07</td>\n",
       "      <td>697</td>\n",
       "    </tr>\n",
       "    <tr>\n",
       "      <td>11</td>\n",
       "      <td>2016-01-31 12:07:41</td>\n",
       "      <td>2016-01-31 12:24:53</td>\n",
       "      <td>-74.000114</td>\n",
       "      <td>40.760590</td>\n",
       "      <td>-73.972900</td>\n",
       "      <td>40.748585</td>\n",
       "      <td>1</td>\n",
       "      <td>1.80</td>\n",
       "      <td>1032</td>\n",
       "    </tr>\n",
       "  </tbody>\n",
       "</table>\n",
       "</div>"
      ],
      "text/plain": [
       "        pickup_datetime     dropoff_datetime  pickup_lon  pickup_lat  \\\n",
       "0   2016-01-30 22:47:32  2016-01-30 23:03:53  -73.988251   40.743542   \n",
       "1   2016-01-04 04:30:48  2016-01-04 04:36:08  -73.995888   40.760010   \n",
       "2   2016-01-07 21:52:24  2016-01-07 21:57:23  -73.990440   40.730469   \n",
       "4   2016-01-08 18:46:10  2016-01-08 18:54:00  -74.004494   40.706989   \n",
       "5   2016-01-02 12:39:57  2016-01-02 12:53:29  -73.958214   40.760525   \n",
       "6   2016-01-28 15:39:31  2016-01-29 15:33:00  -73.964432   40.770443   \n",
       "8   2016-01-17 19:21:16  2016-01-17 19:28:24  -73.978401   40.764992   \n",
       "9   2016-01-14 17:54:32  2016-01-14 18:31:14  -73.976173   40.744934   \n",
       "10  2016-01-05 12:19:17  2016-01-05 12:30:54  -73.956406   40.768028   \n",
       "11  2016-01-31 12:07:41  2016-01-31 12:24:53  -74.000114   40.760590   \n",
       "\n",
       "    dropoff_lon  dropoff_lat  passengers  distance  duration  \n",
       "0    -74.015251    40.709808           1      3.99       981  \n",
       "1    -73.975388    40.782200           1      2.03       320  \n",
       "2    -73.985542    40.738510           1      0.70       299  \n",
       "4    -74.010155    40.716751           5      0.97       470  \n",
       "5    -73.983360    40.760406           1      1.70       812  \n",
       "6    -73.961655    40.774113           1      0.29     86009  \n",
       "8    -73.981018    40.762100           1      0.95       428  \n",
       "9    -73.985298    40.714516           1      4.34      2202  \n",
       "10   -73.978561    40.783222           3      2.07       697  \n",
       "11   -73.972900    40.748585           1      1.80      1032  "
      ]
     },
     "metadata": {},
     "output_type": "display_data"
    },
    {
     "data": {
      "text/plain": [
       "(83402, 9)"
      ]
     },
     "execution_count": 40,
     "metadata": {},
     "output_type": "execute_result"
    }
   ],
   "source": [
    "polygon = pd.read_csv('manhattan.csv')\n",
    "\n",
    "# Checks whether the given point (x,y) is in Manhattan.\n",
    "def in_manhattan(x, y):\n",
    "    num_corners = len(polygon)\n",
    "    poly_x = polygon['lon']\n",
    "    poly_y = polygon['lat']\n",
    "    j = num_corners - 1\n",
    "    odd_nodes = False\n",
    "    for i in range(num_corners):\n",
    "        if (poly_y[i] < y and poly_y[j] >= y) or (poly_y[j] < y and poly_y[i] >= y):\n",
    "            if poly_x[i]+(y-poly_y[i])/(poly_y[j]-poly_y[i])*(poly_x[j]-poly_x[i]) < x:\n",
    "                odd_nodes = not odd_nodes\n",
    "        j = i\n",
    "    return odd_nodes\n",
    "    \n",
    "# Recommended: Then, apply this function to every trip to filter clean_taxi.\n",
    "pickup_in_manhattan = np.array([in_manhattan(x, y) for x,y in taxi[['pickup_lon', 'pickup_lat']].values])\n",
    "dropoff_in_manhattan = np.array([in_manhattan(x, y) for x,y in taxi[['dropoff_lon', 'dropoff_lat']].values])\n",
    "manhattan_taxi = taxi[pickup_in_manhattan & dropoff_in_manhattan]\n",
    "display(manhattan_taxi.head(10))\n",
    "manhattan_taxi.shape"
   ]
  },
  {
   "cell_type": "markdown",
   "metadata": {},
   "source": [
    "Finally, let's do some cleaning of the data: in particular, let's only include trips with a positive passenger count, a positive distance, a duration of at least 1 minute and at most 1 hour, and an average speed of at most 100 miles per hour."
   ]
  },
  {
   "cell_type": "code",
   "execution_count": 44,
   "metadata": {},
   "outputs": [
    {
     "data": {
      "text/plain": [
       "(82800, 9)"
      ]
     },
     "execution_count": 44,
     "metadata": {},
     "output_type": "execute_result"
    }
   ],
   "source": [
    "manhattan_taxi = manhattan_taxi.query(\"passengers > 0 and distance > 0 and duration >= 60 and \\\n",
    "                                            duration <= 60*60 and distance / duration <= 100/3600\")\n",
    "manhattan_taxi.shape"
   ]
  },
  {
   "cell_type": "markdown",
   "metadata": {},
   "source": [
    "Now we are done with cleaning our data, so let's begin our exploratory data analysis. To summarize our data pre-processing, of the original 100,000 trips in the original dataset, we first filtered out the trips that either picked up or dropped off outside the boundaries of New York City. This resulted in dataframe consisting of 97,692 trips. We did even further filtering, resulting in 83,402 trips that were located inside Manhattan island. Finally, we cleaned out 602 anamolous trips, resulting in a dataframe of 82,800 rows."
   ]
  },
  {
   "cell_type": "markdown",
   "metadata": {},
   "source": [
    "## Exploratory Data Analysis"
   ]
  },
  {
   "cell_type": "markdown",
   "metadata": {},
   "source": [
    "We wish to develop a general model that could potentially be used for future taxi rides. Of course, unseen future distributions may be different from the distributions in our obtained training data. However, a reasonable assumption is to use typical examples in our training data, as these will best represent future observations, on average.\n",
    "\n",
    "Let us first make a plot of the total number of taxi rides _by date_. To do this, we will modify the dataframe we have and add a new column that consists of just the date of the pickups of the taxi rides (as opposed to the exact date & time). We see that the datetime columns are actually strings, so we convert to a datetime object in the `date` column."
   ]
  },
  {
   "cell_type": "code",
   "execution_count": 94,
   "metadata": {},
   "outputs": [
    {
     "data": {
      "text/html": [
       "<div>\n",
       "<style scoped>\n",
       "    .dataframe tbody tr th:only-of-type {\n",
       "        vertical-align: middle;\n",
       "    }\n",
       "\n",
       "    .dataframe tbody tr th {\n",
       "        vertical-align: top;\n",
       "    }\n",
       "\n",
       "    .dataframe thead th {\n",
       "        text-align: right;\n",
       "    }\n",
       "</style>\n",
       "<table border=\"1\" class=\"dataframe\">\n",
       "  <thead>\n",
       "    <tr style=\"text-align: right;\">\n",
       "      <th></th>\n",
       "      <th>pickup_datetime</th>\n",
       "      <th>dropoff_datetime</th>\n",
       "      <th>pickup_lon</th>\n",
       "      <th>pickup_lat</th>\n",
       "      <th>dropoff_lon</th>\n",
       "      <th>dropoff_lat</th>\n",
       "      <th>passengers</th>\n",
       "      <th>distance</th>\n",
       "      <th>duration</th>\n",
       "      <th>date</th>\n",
       "    </tr>\n",
       "  </thead>\n",
       "  <tbody>\n",
       "    <tr>\n",
       "      <td>0</td>\n",
       "      <td>2016-01-30 22:47:32</td>\n",
       "      <td>2016-01-30 23:03:53</td>\n",
       "      <td>-73.988251</td>\n",
       "      <td>40.743542</td>\n",
       "      <td>-74.015251</td>\n",
       "      <td>40.709808</td>\n",
       "      <td>1</td>\n",
       "      <td>3.99</td>\n",
       "      <td>981</td>\n",
       "      <td>2016-01-30</td>\n",
       "    </tr>\n",
       "    <tr>\n",
       "      <td>1</td>\n",
       "      <td>2016-01-04 04:30:48</td>\n",
       "      <td>2016-01-04 04:36:08</td>\n",
       "      <td>-73.995888</td>\n",
       "      <td>40.760010</td>\n",
       "      <td>-73.975388</td>\n",
       "      <td>40.782200</td>\n",
       "      <td>1</td>\n",
       "      <td>2.03</td>\n",
       "      <td>320</td>\n",
       "      <td>2016-01-04</td>\n",
       "    </tr>\n",
       "    <tr>\n",
       "      <td>2</td>\n",
       "      <td>2016-01-07 21:52:24</td>\n",
       "      <td>2016-01-07 21:57:23</td>\n",
       "      <td>-73.990440</td>\n",
       "      <td>40.730469</td>\n",
       "      <td>-73.985542</td>\n",
       "      <td>40.738510</td>\n",
       "      <td>1</td>\n",
       "      <td>0.70</td>\n",
       "      <td>299</td>\n",
       "      <td>2016-01-07</td>\n",
       "    </tr>\n",
       "    <tr>\n",
       "      <td>4</td>\n",
       "      <td>2016-01-08 18:46:10</td>\n",
       "      <td>2016-01-08 18:54:00</td>\n",
       "      <td>-74.004494</td>\n",
       "      <td>40.706989</td>\n",
       "      <td>-74.010155</td>\n",
       "      <td>40.716751</td>\n",
       "      <td>5</td>\n",
       "      <td>0.97</td>\n",
       "      <td>470</td>\n",
       "      <td>2016-01-08</td>\n",
       "    </tr>\n",
       "    <tr>\n",
       "      <td>5</td>\n",
       "      <td>2016-01-02 12:39:57</td>\n",
       "      <td>2016-01-02 12:53:29</td>\n",
       "      <td>-73.958214</td>\n",
       "      <td>40.760525</td>\n",
       "      <td>-73.983360</td>\n",
       "      <td>40.760406</td>\n",
       "      <td>1</td>\n",
       "      <td>1.70</td>\n",
       "      <td>812</td>\n",
       "      <td>2016-01-02</td>\n",
       "    </tr>\n",
       "  </tbody>\n",
       "</table>\n",
       "</div>"
      ],
      "text/plain": [
       "       pickup_datetime     dropoff_datetime  pickup_lon  pickup_lat  \\\n",
       "0  2016-01-30 22:47:32  2016-01-30 23:03:53  -73.988251   40.743542   \n",
       "1  2016-01-04 04:30:48  2016-01-04 04:36:08  -73.995888   40.760010   \n",
       "2  2016-01-07 21:52:24  2016-01-07 21:57:23  -73.990440   40.730469   \n",
       "4  2016-01-08 18:46:10  2016-01-08 18:54:00  -74.004494   40.706989   \n",
       "5  2016-01-02 12:39:57  2016-01-02 12:53:29  -73.958214   40.760525   \n",
       "\n",
       "   dropoff_lon  dropoff_lat  passengers  distance  duration       date  \n",
       "0   -74.015251    40.709808           1      3.99       981 2016-01-30  \n",
       "1   -73.975388    40.782200           1      2.03       320 2016-01-04  \n",
       "2   -73.985542    40.738510           1      0.70       299 2016-01-07  \n",
       "4   -74.010155    40.716751           5      0.97       470 2016-01-08  \n",
       "5   -73.983360    40.760406           1      1.70       812 2016-01-02  "
      ]
     },
     "execution_count": 94,
     "metadata": {},
     "output_type": "execute_result"
    }
   ],
   "source": [
    "import datetime\n",
    "\n",
    "manhattan_taxi['date'] = manhattan_taxi['pickup_datetime'].apply(lambda x: datetime.datetime.strptime(x[:10], '%Y-%m-%d'))\n",
    "manhattan_taxi.head(5)"
   ]
  },
  {
   "cell_type": "code",
   "execution_count": 93,
   "metadata": {},
   "outputs": [
    {
     "data": {
      "image/png": "[encoded data removed]",
      "text/plain": [
       "<Figure size 864x432 with 1 Axes>"
      ]
     },
     "metadata": {
      "needs_background": "light"
     },
     "output_type": "display_data"
    }
   ],
   "source": [
    "# Plot number of taxi rides by date\n",
    "plt.figure(figsize=(12, 6))\n",
    "plt.title(\"Total Number of Taxi Rides by Date\", fontsize=16)\n",
    "plt.xlabel(\"Date\", fontsize=14)\n",
    "plt.ylabel(\"Number of Taxi Rides\", fontsize=14)\n",
    "sns.lineplot(data=manhattan_taxi.groupby('date').count()['duration']);"
   ]
  },
  {
   "cell_type": "markdown",
   "metadata": {},
   "source": [
    "In terms of number of taxi rides, we observe some atypical days, such as New Years Day (January 1) falling on a Friday, MLK Jr. Day (January 18), and a substantial dip in rides on January 23. In fact, a google search reveals that there was an historic blizzard in NYC on the 23rd and 24th of January, 2016. As mentioned above, in order to use this dataset in our regression model, we should account for these phenomena. One simple way to account for this is to remove atypical days from the training data. We choose the first three days of the month, MLK Jr. Day, and the days of and following the blizzard."
   ]
  },
  {
   "cell_type": "code",
   "execution_count": 95,
   "metadata": {},
   "outputs": [
    {
     "name": "stdout",
     "output_type": "stream",
     "text": [
      "Typical dates:\n",
      "\n",
      "    January 2016\n",
      "Mo Tu We Th Fr Sa Su\n",
      "                    \n",
      " 4  5  6  7  8  9 10\n",
      "11 12 13 14 15 16 17\n",
      "   19 20 21 22      \n",
      "      27 28 29 30 31\n",
      "\n"
     ]
    }
   ],
   "source": [
    "import calendar\n",
    "import re\n",
    "\n",
    "atypical = [1, 2, 3, 18, 23, 24, 25, 26]\n",
    "typical_dates = [datetime.date(2016, 1, n) for n in range(1, 32) if n not in atypical]\n",
    "typical_dates\n",
    "\n",
    "print('Typical dates:\\n')\n",
    "pat = '  [1-3]|18 | 23| 24|25 |26 '\n",
    "print(re.sub(pat, '   ', calendar.month(2016, 1)))\n",
    "\n",
    "manhattan_taxi_final = manhattan_taxi[manhattan_taxi['date'].isin(typical_dates)]"
   ]
  },
  {
   "cell_type": "code",
   "execution_count": 98,
   "metadata": {},
   "outputs": [],
   "source": []
  }
 ],
 "metadata": {
  "kernelspec": {
   "display_name": "Python 3",
   "language": "python",
   "name": "python3"
  },
  "language_info": {
   "codemirror_mode": {
    "name": "ipython",
    "version": 3
   },
   "file_extension": ".py",
   "mimetype": "text/x-python",
   "name": "python",
   "nbconvert_exporter": "python",
   "pygments_lexer": "ipython3",
   "version": "3.7.4"
  }
 },
 "nbformat": 4,
 "nbformat_minor": 2
}
